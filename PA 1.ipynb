{
 "cells": [
  {
   "cell_type": "markdown",
   "id": "8762d826-2ff1-4aa1-8abc-464efc7d7d8b",
   "metadata": {},
   "source": [
    "---"
   ]
  },
  {
   "cell_type": "markdown",
   "id": "ef86a1fb-d80a-41de-9005-f1bce91fa7b6",
   "metadata": {},
   "source": [
    "## Programming Assignment 1 ##"
   ]
  },
  {
   "cell_type": "markdown",
   "id": "205f0a0d-5b95-4900-a544-b3bea441d3b8",
   "metadata": {},
   "source": [
    "---"
   ]
  },
  {
   "cell_type": "markdown",
   "id": "1f32ca8f-1945-4cae-9c01-fd9a1acc1483",
   "metadata": {},
   "source": [
    "## No.1  Alphabet Soup ##"
   ]
  },
  {
   "cell_type": "code",
   "execution_count": 5,
   "id": "903da2b6-194d-424c-868a-03cca4f85bfe",
   "metadata": {},
   "outputs": [
    {
     "name": "stdin",
     "output_type": "stream",
     "text": [
      "Enter word:  rafael\n"
     ]
    },
    {
     "name": "stdout",
     "output_type": "stream",
     "text": [
      "aaeflr\n"
     ]
    }
   ],
   "source": [
    "def alphabet_soup():\n",
    "    word = input(\"Enter word: \").lower() #prompts the user to input a word\n",
    "    a = ''.join(sorted(word)) # stores the value into a then sorts the string in alphabetical order and joins them together\n",
    "    return a #prints the conjoined,alphabetically arranged string\n",
    "\n",
    "print(alphabet_soup()) # prints the word in alphabetical order"
   ]
  },
  {
   "cell_type": "markdown",
   "id": "b87f12d3-1e04-4341-92bb-85c4022d33dd",
   "metadata": {},
   "source": [
    "## No.2 Emoticon ##"
   ]
  },
  {
   "cell_type": "code",
   "execution_count": 12,
   "id": "b5212b59-feb7-4e34-8d06-768e1da17192",
   "metadata": {},
   "outputs": [
    {
     "name": "stdin",
     "output_type": "stream",
     "text": [
      "Please enter a sentence :  make me smile\n"
     ]
    },
    {
     "name": "stdout",
     "output_type": "stream",
     "text": [
      "make me :)\n"
     ]
    }
   ],
   "source": [
    "def emotify(): #user defined function to replace the words into emoticons\n",
    "        sentence = input(\"Please enter a sentence : \").lower() # asks the user to input a sentence, the .lower function lowercases the sentence\n",
    "        emoticons = {\"smile\" : \":)\", \"mad\" : \">:(\", \"sad\" : \":((\", \"grin\" : \":D\"} #using a dictionary to assign a key and vaue\n",
    "        for word, emoticon in emoticons.items(): #checks the dictionary if a key is in the string and returns the dict\n",
    "                sentence = sentence.replace(word,emoticon) # replaces the word with the emoticon\n",
    "        return sentence # prints the sentence\n",
    "\n",
    "\n",
    "print(emotify()) #uses the emotify function"
   ]
  },
  {
   "cell_type": "markdown",
   "id": "68f1c482-3222-4386-ba97-ffb2467fd79b",
   "metadata": {},
   "source": [
    "## No.3 Unpacking List Problem ##"
   ]
  },
  {
   "cell_type": "code",
   "execution_count": 23,
   "id": "3e1ea744-9dfa-4e15-8716-e10622cbfd20",
   "metadata": {},
   "outputs": [
    {
     "name": "stdin",
     "output_type": "stream",
     "text": [
      "Please enter numbers separated by spaces:  1 2 3 4 5 6\n"
     ]
    },
    {
     "name": "stdout",
     "output_type": "stream",
     "text": [
      "First: 1\n",
      "Middle: ['2', '3', '4', '5']\n",
      "Last: 6\n"
     ]
    }
   ],
   "source": [
    "x = input(\"Please enter numbers separated by spaces: \") #asks the user to input numbers \n",
    "writeyourcodehere = x.split() # splits the string into a list\n",
    "first, *middle, last = writeyourcodehere #unpacks the list, first becomes the first index, last becomes the last index, the *middle unpacks all the digits between the first and last\n",
    "print(\"First: \" + str(first)) #prints the first index\n",
    "print(\"Middle: \"+ str(middle)) #prints the numbers between the last and first \n",
    "print(\"Last: \" + str(last)) # prints last"
   ]
  },
  {
   "cell_type": "code",
   "execution_count": null,
   "id": "3d90397c-a263-4469-a4b9-071fe15875eb",
   "metadata": {},
   "outputs": [],
   "source": []
  }
 ],
 "metadata": {
  "kernelspec": {
   "display_name": "Python 3 (ipykernel)",
   "language": "python",
   "name": "python3"
  },
  "language_info": {
   "codemirror_mode": {
    "name": "ipython",
    "version": 3
   },
   "file_extension": ".py",
   "mimetype": "text/x-python",
   "name": "python",
   "nbconvert_exporter": "python",
   "pygments_lexer": "ipython3",
   "version": "3.12.4"
  }
 },
 "nbformat": 4,
 "nbformat_minor": 5
}
